{
  "nbformat": 4,
  "nbformat_minor": 0,
  "metadata": {
    "colab": {
      "name": "imageclassifictionCIFAR.ipynb",
      "provenance": [],
      "collapsed_sections": []
    },
    "kernelspec": {
      "name": "python3",
      "display_name": "Python 3"
    },
    "language_info": {
      "name": "python"
    },
    "accelerator": "GPU"
  },
  "cells": [
    {
      "cell_type": "code",
      "metadata": {
        "colab": {
          "base_uri": "https://localhost:8080/"
        },
        "id": "XV-OvTwSYryU",
        "outputId": "30d6cc87-5744-45db-eafb-5acf2f79780f"
      },
      "source": [
        "!sudo apt-get install python3-tk"
      ],
      "execution_count": 1,
      "outputs": [
        {
          "output_type": "stream",
          "name": "stdout",
          "text": [
            "Reading package lists... Done\n",
            "Building dependency tree       \n",
            "Reading state information... Done\n",
            "python3-tk is already the newest version (3.6.9-1~18.04).\n",
            "0 upgraded, 0 newly installed, 0 to remove and 37 not upgraded.\n"
          ]
        }
      ]
    },
    {
      "cell_type": "markdown",
      "metadata": {
        "id": "U7vHx8bld1o-"
      },
      "source": [
        "# Image Classification – Deep Learning Project in Python with Keras"
      ]
    },
    {
      "cell_type": "markdown",
      "metadata": {
        "id": "1Wy4GcD-d6Ku"
      },
      "source": [
        "In this project, we will build a convolution neural network in Keras with python on a CIFAR-10 dataset. First, we will explore our dataset, and then we will train our neural network using python and Keras.\n"
      ]
    },
    {
      "cell_type": "markdown",
      "metadata": {
        "id": "lJpHfBBBe-rw"
      },
      "source": [
        "About Image Classification Dataset\n",
        "CIFAR-10 is a very popular computer vision dataset. This dataset is well studied in many types of deep learning research for object recognition.\n",
        "\n",
        "This dataset consists of 60,000 images divided into 10 target classes, with each category containing 6000 images of shape 32*32. This dataset contains images of low resolution (32*32), which allows researchers to try new algorithms. The 10 different classes of this dataset are:\n",
        "\n",
        "Airplane\n",
        "Car\n",
        "Bird\n",
        "Cat\n",
        "Deer\n",
        "Dog\n",
        "Frog\n",
        "Horse\n",
        "Ship\n",
        "Truck\n",
        "CIFAR-10 dataset is already available in the datasets module of Keras. We do not need to download it; we can directly import it from keras.datasets.\n",
        "\n",
        "\n"
      ]
    },
    {
      "cell_type": "markdown",
      "metadata": {
        "id": "Plh2C2jtfDio"
      },
      "source": [
        "## Steps for image classification on CIFAR-10:"
      ]
    },
    {
      "cell_type": "markdown",
      "metadata": {
        "id": "CVtmHaZqf65s"
      },
      "source": [
        "#### 1. Load the dataset from keras datasets module"
      ]
    },
    {
      "cell_type": "code",
      "metadata": {
        "id": "E23rADkFPA1G",
        "colab": {
          "base_uri": "https://localhost:8080/"
        },
        "outputId": "9ceee0eb-d1c2-4a04-fff9-241895a7868c"
      },
      "source": [
        "import tensorflow as tf\n",
        "from tensorflow.keras import datasets, layers, models\n",
        "from keras.datasets import cifar10\n",
        "import matplotlib.pyplot as plt\n",
        "import numpy as np\n",
        "\n",
        " \n",
        "(train_X,train_Y),(test_X,test_Y)=cifar10.load_data()"
      ],
      "execution_count": 2,
      "outputs": [
        {
          "output_type": "stream",
          "name": "stdout",
          "text": [
            "Downloading data from https://www.cs.toronto.edu/~kriz/cifar-10-python.tar.gz\n",
            "170500096/170498071 [==============================] - 2s 0us/step\n",
            "170508288/170498071 [==============================] - 2s 0us/step\n"
          ]
        }
      ]
    },
    {
      "cell_type": "code",
      "metadata": {
        "colab": {
          "base_uri": "https://localhost:8080/"
        },
        "id": "Y_PXltjr2pLG",
        "outputId": "9004e261-a000-402d-dc69-6355bce980d9"
      },
      "source": [
        "train_X.shape\n"
      ],
      "execution_count": 3,
      "outputs": [
        {
          "output_type": "execute_result",
          "data": {
            "text/plain": [
              "(50000, 32, 32, 3)"
            ]
          },
          "metadata": {},
          "execution_count": 3
        }
      ]
    },
    {
      "cell_type": "code",
      "metadata": {
        "colab": {
          "base_uri": "https://localhost:8080/"
        },
        "id": "C8qFz9Gl20L8",
        "outputId": "700d5105-52af-4053-ced8-3a2f3901f8a7"
      },
      "source": [
        "test_X.shape"
      ],
      "execution_count": 4,
      "outputs": [
        {
          "output_type": "execute_result",
          "data": {
            "text/plain": [
              "(10000, 32, 32, 3)"
            ]
          },
          "metadata": {},
          "execution_count": 4
        }
      ]
    },
    {
      "cell_type": "markdown",
      "metadata": {
        "id": "WCF8eDeX25lj"
      },
      "source": [
        "Here we can see there are 50000 training images and 10000 testing images\n"
      ]
    },
    {
      "cell_type": "code",
      "metadata": {
        "colab": {
          "base_uri": "https://localhost:8080/"
        },
        "id": "8pqnJ5m63JKG",
        "outputId": "da5373ae-985a-45ab-a3fe-57c1e1c13e68"
      },
      "source": [
        "train_Y.shape"
      ],
      "execution_count": 5,
      "outputs": [
        {
          "output_type": "execute_result",
          "data": {
            "text/plain": [
              "(50000, 1)"
            ]
          },
          "metadata": {},
          "execution_count": 5
        }
      ]
    },
    {
      "cell_type": "code",
      "metadata": {
        "colab": {
          "base_uri": "https://localhost:8080/"
        },
        "id": "ittn2Cl13OPB",
        "outputId": "7018453b-4c78-40d7-d39c-b9eb8bd4e989"
      },
      "source": [
        "train_Y[:5]"
      ],
      "execution_count": 6,
      "outputs": [
        {
          "output_type": "execute_result",
          "data": {
            "text/plain": [
              "array([[6],\n",
              "       [9],\n",
              "       [9],\n",
              "       [4],\n",
              "       [1]], dtype=uint8)"
            ]
          },
          "metadata": {},
          "execution_count": 6
        }
      ]
    },
    {
      "cell_type": "markdown",
      "metadata": {
        "id": "Ykx8R4uZ3ZaX"
      },
      "source": [
        "train_Y is a 2-D array, for our classification having 1-D array is good enough. so we will convert this to 1-D array now "
      ]
    },
    {
      "cell_type": "code",
      "metadata": {
        "colab": {
          "base_uri": "https://localhost:8080/"
        },
        "id": "7eeI0dgC3y7H",
        "outputId": "173adcef-0d01-47b8-e647-3d7817d9ee10"
      },
      "source": [
        "train_Y = train_Y.reshape(-1,)\n",
        "train_Y[:5]"
      ],
      "execution_count": 7,
      "outputs": [
        {
          "output_type": "execute_result",
          "data": {
            "text/plain": [
              "array([6, 9, 9, 4, 1], dtype=uint8)"
            ]
          },
          "metadata": {},
          "execution_count": 7
        }
      ]
    },
    {
      "cell_type": "code",
      "metadata": {
        "colab": {
          "base_uri": "https://localhost:8080/"
        },
        "id": "_vmhFtJD4Bin",
        "outputId": "c811af4c-5144-453c-f27f-27088d613a44"
      },
      "source": [
        "test_Y = test_Y.reshape(-1,)\n",
        "test_Y"
      ],
      "execution_count": 8,
      "outputs": [
        {
          "output_type": "execute_result",
          "data": {
            "text/plain": [
              "array([3, 8, 8, ..., 5, 1, 7], dtype=uint8)"
            ]
          },
          "metadata": {},
          "execution_count": 8
        }
      ]
    },
    {
      "cell_type": "code",
      "metadata": {
        "id": "mjeyI5dY49UG"
      },
      "source": [
        "classes = [\"airplane\", \"automobile\", \"bird\", \"cat\", \"deer\", \"dog\", \"frog\", \"horse\", \"ship\", \"truck\"]"
      ],
      "execution_count": 9,
      "outputs": []
    },
    {
      "cell_type": "markdown",
      "metadata": {
        "id": "X0oqFtUA6FOd"
      },
      "source": [
        "2. Plot some images from the dataset to visualize the dataset"
      ]
    },
    {
      "cell_type": "code",
      "metadata": {
        "id": "5XViqdC34dS_"
      },
      "source": [
        "def plot_sample(X, Y, index):\n",
        "  plt.figure(figsize=(16,2))\n",
        "  plt.imshow(X[index])\n",
        "  plt.xlabel(classes[Y[index]])"
      ],
      "execution_count": 10,
      "outputs": []
    },
    {
      "cell_type": "code",
      "metadata": {
        "colab": {
          "base_uri": "https://localhost:8080/",
          "height": 173
        },
        "id": "haoqg81e4LPc",
        "outputId": "9b6b8022-6346-44a8-ba73-39f01fb78768"
      },
      "source": [
        "plot_sample(train_X, train_Y, 0)"
      ],
      "execution_count": 11,
      "outputs": [
        {
          "output_type": "display_data",
          "data": {
            "image/png": "[encoded data removed]",
            "text/plain": [
              "<Figure size 1152x144 with 1 Axes>"
            ]
          },
          "metadata": {
            "needs_background": "light"
          }
        }
      ]
    },
    {
      "cell_type": "code",
      "metadata": {
        "colab": {
          "base_uri": "https://localhost:8080/",
          "height": 173
        },
        "id": "3H3t8Oev518y",
        "outputId": "2a9ea2ac-a37d-4f97-f53a-925ba53962f1"
      },
      "source": [
        "plot_sample(train_X, train_Y, 1)"
      ],
      "execution_count": 12,
      "outputs": [
        {
          "output_type": "display_data",
          "data": {
            "image/png": "[encoded data removed]",
            "text/plain": [
              "<Figure size 1152x144 with 1 Axes>"
            ]
          },
          "metadata": {
            "needs_background": "light"
          }
        }
      ]
    },
    {
      "cell_type": "code",
      "metadata": {
        "colab": {
          "base_uri": "https://localhost:8080/",
          "height": 404
        },
        "id": "tM4fmJm5TFt9",
        "outputId": "9f7a2841-6435-4abb-cf3b-83dc89ace9be"
      },
      "source": [
        "n=6\n",
        "plt.figure(figsize=(20,10))\n",
        "for i in range(n):\n",
        "    plt.subplot(330+1+i)\n",
        "plt.imshow(train_X[i])\n",
        "plt.show()"
      ],
      "execution_count": 13,
      "outputs": [
        {
          "output_type": "display_data",
          "data": {
            "image/png": "[encoded data removed]",
            "text/plain": [
              "<Figure size 1440x720 with 6 Axes>"
            ]
          },
          "metadata": {
            "needs_background": "light"
          }
        }
      ]
    },
    {
      "cell_type": "markdown",
      "metadata": {
        "id": "vjd0B4jYgPFA"
      },
      "source": [
        "3. Import the required layers and modules to create our convolution neural net architecture"
      ]
    },
    {
      "cell_type": "code",
      "metadata": {
        "id": "sVjRF5U5TyRK"
      },
      "source": [
        "from keras.models import Sequential\n",
        "from keras.layers import Dense\n",
        "from keras.layers import Dropout\n",
        "from keras.layers import Flatten\n",
        "from keras.constraints import maxnorm\n",
        "from tensorflow.keras.optimizers import SGD\n",
        "from keras.layers.convolutional import Conv2D\n",
        "from keras.layers.convolutional import MaxPooling2D\n",
        "from keras.utils import np_utils"
      ],
      "execution_count": 14,
      "outputs": []
    },
    {
      "cell_type": "markdown",
      "metadata": {
        "id": "IfVyZGSI6a2T"
      },
      "source": [
        "Normalize the images to a number from 0 to 1. Image has 3 channels (R,G,B) and each value in the channel can range from 0 to 255. Hence to normalize in 0-->1 range, we need to divide it by 255"
      ]
    },
    {
      "cell_type": "markdown",
      "metadata": {
        "id": "DwHQrUbC6wJl"
      },
      "source": [
        "\n",
        "4. Convert the pixel values of the dataset to float type and then normalize the dataset\n",
        "\n",
        "\n"
      ]
    },
    {
      "cell_type": "code",
      "metadata": {
        "id": "fKY6pULST5Kk"
      },
      "source": [
        "train_x=train_X.astype('float32')\n",
        "test_X=test_X.astype('float32')\n",
        " \n",
        "train_X=train_X/255.0\n",
        "test_X=test_X/255.0"
      ],
      "execution_count": 15,
      "outputs": []
    },
    {
      "cell_type": "markdown",
      "metadata": {
        "id": "Nr2NkxTwlfOf"
      },
      "source": [
        "5. Perform One hot encoding on target classes"
      ]
    },
    {
      "cell_type": "code",
      "metadata": {
        "id": "pGac3SOyUkBQ"
      },
      "source": [
        "train_Y=np_utils.to_categorical(train_Y)\n",
        "test_Y=np_utils.to_categorical(test_Y)\n",
        " \n",
        "num_classes=test_Y.shape[1]"
      ],
      "execution_count": 16,
      "outputs": []
    },
    {
      "cell_type": "markdown",
      "metadata": {
        "id": "uUzEJlJ5gogQ"
      },
      "source": [
        "6. Create the sequential model and add the layers"
      ]
    },
    {
      "cell_type": "code",
      "metadata": {
        "id": "LnrZtl9ZUoWy"
      },
      "source": [
        "model=Sequential()\n",
        "model.add(Conv2D(32,(3,3),input_shape=(32,32,3),\n",
        "    padding='same',activation='relu',\n",
        "    kernel_constraint=maxnorm(3)))\n",
        "model.add(Dropout(0.2))\n",
        "model.add(Conv2D(32,(3,3),activation='relu',padding='same',kernel_constraint=maxnorm(3)))\n",
        "model.add(MaxPooling2D(pool_size=(2,2)))\n",
        "model.add(Flatten())\n",
        "model.add(Dense(512,activation='relu',kernel_constraint=maxnorm(3)))\n",
        "model.add(Dropout(0.5))\n",
        "model.add(Dense(num_classes, activation='softmax'))\n"
      ],
      "execution_count": 17,
      "outputs": []
    },
    {
      "cell_type": "markdown",
      "metadata": {
        "id": "QRGgDDPygwQz"
      },
      "source": [
        "7. Configure the optimizer and compile the model"
      ]
    },
    {
      "cell_type": "code",
      "metadata": {
        "colab": {
          "base_uri": "https://localhost:8080/"
        },
        "id": "NLa0AeacUzCm",
        "outputId": "1c02ae00-289d-4ac9-c8a2-3d769e72ca82"
      },
      "source": [
        "sgd=SGD(lr=0.01,momentum=0.9,decay=(0.01/25),nesterov=False)\n",
        " \n",
        "model.compile(loss='categorical_crossentropy',\n",
        "  optimizer=sgd,\n",
        "  metrics=['accuracy'])"
      ],
      "execution_count": 18,
      "outputs": [
        {
          "output_type": "stream",
          "name": "stderr",
          "text": [
            "/usr/local/lib/python3.7/dist-packages/keras/optimizer_v2/optimizer_v2.py:356: UserWarning: The `lr` argument is deprecated, use `learning_rate` instead.\n",
            "  \"The `lr` argument is deprecated, use `learning_rate` instead.\")\n"
          ]
        }
      ]
    },
    {
      "cell_type": "markdown",
      "metadata": {
        "id": "KmSmChm9g1_S"
      },
      "source": [
        "8. View the model summary for better understanding of model architecture"
      ]
    },
    {
      "cell_type": "code",
      "metadata": {
        "colab": {
          "base_uri": "https://localhost:8080/"
        },
        "id": "DvlOMJ52VLME",
        "outputId": "872425a9-0e6a-400a-d5b1-c8c2d9ee4dc6"
      },
      "source": [
        "model.summary()"
      ],
      "execution_count": 19,
      "outputs": [
        {
          "output_type": "stream",
          "name": "stdout",
          "text": [
            "Model: \"sequential\"\n",
            "_________________________________________________________________\n",
            "Layer (type)                 Output Shape              Param #   \n",
            "=================================================================\n",
            "conv2d (Conv2D)              (None, 32, 32, 32)        896       \n",
            "_________________________________________________________________\n",
            "dropout (Dropout)            (None, 32, 32, 32)        0         \n",
            "_________________________________________________________________\n",
            "conv2d_1 (Conv2D)            (None, 32, 32, 32)        9248      \n",
            "_________________________________________________________________\n",
            "max_pooling2d (MaxPooling2D) (None, 16, 16, 32)        0         \n",
            "_________________________________________________________________\n",
            "flatten (Flatten)            (None, 8192)              0         \n",
            "_________________________________________________________________\n",
            "dense (Dense)                (None, 512)               4194816   \n",
            "_________________________________________________________________\n",
            "dropout_1 (Dropout)          (None, 512)               0         \n",
            "_________________________________________________________________\n",
            "dense_1 (Dense)              (None, 10)                5130      \n",
            "=================================================================\n",
            "Total params: 4,210,090\n",
            "Trainable params: 4,210,090\n",
            "Non-trainable params: 0\n",
            "_________________________________________________________________\n"
          ]
        }
      ]
    },
    {
      "cell_type": "markdown",
      "metadata": {
        "id": "nQ1O98w2g4MM"
      },
      "source": [
        "9. Train the model"
      ]
    },
    {
      "cell_type": "code",
      "metadata": {
        "colab": {
          "base_uri": "https://localhost:8080/"
        },
        "id": "0G_vrMDlVRak",
        "outputId": "6588e2c6-a166-4fe4-c74d-6635cd05d34f"
      },
      "source": [
        "model.fit(train_X,train_Y,validation_data=(test_X,test_Y), epochs=20,batch_size=32)"
      ],
      "execution_count": 20,
      "outputs": [
        {
          "output_type": "stream",
          "name": "stdout",
          "text": [
            "Epoch 1/20\n",
            "1563/1563 [==============================] - 48s 11ms/step - loss: 1.7124 - accuracy: 0.3815 - val_loss: 1.3912 - val_accuracy: 0.4935\n",
            "Epoch 2/20\n",
            "1563/1563 [==============================] - 16s 10ms/step - loss: 1.3302 - accuracy: 0.5247 - val_loss: 1.1567 - val_accuracy: 0.5900\n",
            "Epoch 3/20\n",
            "1563/1563 [==============================] - 16s 10ms/step - loss: 1.1627 - accuracy: 0.5848 - val_loss: 1.0965 - val_accuracy: 0.6071\n",
            "Epoch 4/20\n",
            "1563/1563 [==============================] - 17s 11ms/step - loss: 1.0445 - accuracy: 0.6302 - val_loss: 1.0463 - val_accuracy: 0.6295\n",
            "Epoch 5/20\n",
            "1563/1563 [==============================] - 16s 10ms/step - loss: 0.9459 - accuracy: 0.6636 - val_loss: 0.9705 - val_accuracy: 0.6528\n",
            "Epoch 6/20\n",
            "1563/1563 [==============================] - 16s 10ms/step - loss: 0.8688 - accuracy: 0.6921 - val_loss: 0.9485 - val_accuracy: 0.6637\n",
            "Epoch 7/20\n",
            "1563/1563 [==============================] - 16s 10ms/step - loss: 0.7959 - accuracy: 0.7193 - val_loss: 0.9434 - val_accuracy: 0.6698\n",
            "Epoch 8/20\n",
            "1563/1563 [==============================] - 16s 10ms/step - loss: 0.7275 - accuracy: 0.7430 - val_loss: 0.9257 - val_accuracy: 0.6769\n",
            "Epoch 9/20\n",
            "1563/1563 [==============================] - 16s 10ms/step - loss: 0.6742 - accuracy: 0.7618 - val_loss: 0.9231 - val_accuracy: 0.6798\n",
            "Epoch 10/20\n",
            "1563/1563 [==============================] - 16s 10ms/step - loss: 0.6184 - accuracy: 0.7807 - val_loss: 0.9218 - val_accuracy: 0.6867\n",
            "Epoch 11/20\n",
            "1563/1563 [==============================] - 17s 11ms/step - loss: 0.5720 - accuracy: 0.7980 - val_loss: 0.9038 - val_accuracy: 0.6913\n",
            "Epoch 12/20\n",
            "1563/1563 [==============================] - 16s 10ms/step - loss: 0.5325 - accuracy: 0.8118 - val_loss: 0.9258 - val_accuracy: 0.6918\n",
            "Epoch 13/20\n",
            "1563/1563 [==============================] - 16s 11ms/step - loss: 0.4877 - accuracy: 0.8277 - val_loss: 0.9456 - val_accuracy: 0.6922\n",
            "Epoch 14/20\n",
            "1563/1563 [==============================] - 17s 11ms/step - loss: 0.4580 - accuracy: 0.8384 - val_loss: 0.9409 - val_accuracy: 0.6933\n",
            "Epoch 15/20\n",
            "1563/1563 [==============================] - 16s 11ms/step - loss: 0.4315 - accuracy: 0.8464 - val_loss: 0.9559 - val_accuracy: 0.6950\n",
            "Epoch 16/20\n",
            "1563/1563 [==============================] - 17s 11ms/step - loss: 0.3989 - accuracy: 0.8592 - val_loss: 0.9551 - val_accuracy: 0.7015\n",
            "Epoch 17/20\n",
            "1563/1563 [==============================] - 16s 10ms/step - loss: 0.3783 - accuracy: 0.8661 - val_loss: 0.9819 - val_accuracy: 0.6956\n",
            "Epoch 18/20\n",
            "1563/1563 [==============================] - 16s 10ms/step - loss: 0.3496 - accuracy: 0.8779 - val_loss: 0.9834 - val_accuracy: 0.7013\n",
            "Epoch 19/20\n",
            "1563/1563 [==============================] - 16s 11ms/step - loss: 0.3309 - accuracy: 0.8840 - val_loss: 0.9969 - val_accuracy: 0.7015\n",
            "Epoch 20/20\n",
            "1563/1563 [==============================] - 16s 11ms/step - loss: 0.3123 - accuracy: 0.8904 - val_loss: 1.0044 - val_accuracy: 0.7031\n"
          ]
        },
        {
          "output_type": "execute_result",
          "data": {
            "text/plain": [
              "<keras.callbacks.History at 0x7f312016a050>"
            ]
          },
          "metadata": {},
          "execution_count": 20
        }
      ]
    },
    {
      "cell_type": "markdown",
      "metadata": {
        "id": "F0JtNSW2g9dk"
      },
      "source": [
        "10. Calculate its accuracy on testing data"
      ]
    },
    {
      "cell_type": "code",
      "metadata": {
        "colab": {
          "base_uri": "https://localhost:8080/"
        },
        "id": "EyErX8GMVX9y",
        "outputId": "42abc09c-ec78-4fc3-dda9-e38012f75101"
      },
      "source": [
        "_, acc=model.evaluate(test_X,test_Y)\n",
        "print(acc*100)"
      ],
      "execution_count": 21,
      "outputs": [
        {
          "output_type": "stream",
          "name": "stdout",
          "text": [
            "313/313 [==============================] - 2s 5ms/step - loss: 1.0044 - accuracy: 0.7031\n",
            "70.31000256538391\n"
          ]
        }
      ]
    },
    {
      "cell_type": "markdown",
      "metadata": {
        "id": "wE5-8IcKhKpH"
      },
      "source": [
        "11. Save the model"
      ]
    },
    {
      "cell_type": "code",
      "metadata": {
        "id": "LbKtQW_KdX4q"
      },
      "source": [
        "model.save(\"model_cifar_10epoch.h5\")"
      ],
      "execution_count": 23,
      "outputs": []
    },
    {
      "cell_type": "markdown",
      "metadata": {
        "id": "I3fx6zeEhMDW"
      },
      "source": [
        "12. Make predictions from the model"
      ]
    },
    {
      "cell_type": "code",
      "metadata": {
        "colab": {
          "base_uri": "https://localhost:8080/"
        },
        "id": "1VS4Yvp31gFU",
        "outputId": "ede4733f-1eed-41ee-8a82-fc9f062896b5"
      },
      "source": [
        "Y_pred = model.predict(test_X)\n",
        "Y_pred[:5]"
      ],
      "execution_count": 22,
      "outputs": [
        {
          "output_type": "execute_result",
          "data": {
            "text/plain": [
              "array([[2.16444983e-04, 1.16190691e-04, 3.64991516e-04, 7.39301443e-01,\n",
              "        2.04838277e-03, 2.35966280e-01, 2.05696523e-02, 6.29409842e-05,\n",
              "        1.34319882e-03, 1.05192757e-05],\n",
              "       [2.07384536e-03, 1.95094254e-02, 2.23824923e-08, 2.34286368e-10,\n",
              "        3.30409977e-10, 8.41492999e-13, 5.10582653e-11, 9.53813417e-12,\n",
              "        9.78402853e-01, 1.38244741e-05],\n",
              "       [8.57194185e-01, 3.01819830e-03, 1.29745007e-04, 7.63279386e-05,\n",
              "        2.39918882e-04, 3.46375382e-05, 2.91419724e-06, 2.97395542e-04,\n",
              "        1.37926325e-01, 1.08026678e-03],\n",
              "       [9.01708364e-01, 3.17303860e-03, 5.19304443e-03, 5.06441400e-04,\n",
              "        3.54364427e-04, 4.73736827e-06, 1.36417075e-04, 1.45325771e-06,\n",
              "        8.85072947e-02, 4.14947426e-04],\n",
              "       [1.31035157e-13, 6.77708432e-13, 2.29076802e-04, 1.21923583e-02,\n",
              "        9.75597084e-01, 1.52920802e-05, 1.19662555e-02, 1.97697458e-09,\n",
              "        3.19288973e-09, 7.30345363e-13]], dtype=float32)"
            ]
          },
          "metadata": {},
          "execution_count": 22
        }
      ]
    },
    {
      "cell_type": "code",
      "metadata": {
        "id": "kLciV2Ivde4S"
      },
      "source": [
        "results={\n",
        "   0:'aeroplane',\n",
        "   1:'automobile',\n",
        "   2:'bird',\n",
        "   3:'cat',\n",
        "   4:'deer',\n",
        "   5:'dog',\n",
        "   6:'frog',\n",
        "   7:'horse',\n",
        "   8:'ship',\n",
        "   9:'truck'\n",
        "}\n"
      ],
      "execution_count": 24,
      "outputs": []
    },
    {
      "cell_type": "code",
      "metadata": {
        "colab": {
          "base_uri": "https://localhost:8080/"
        },
        "id": "whhen52qPN_n",
        "outputId": "f453afde-b8e5-41c2-fa32-d11e9e979880"
      },
      "source": [
        "from PIL import Image\n",
        "import numpy as np\n",
        "from numpy import array\n",
        "im=Image.open(\"/content/drive/MyDrive/Untitled folder/cifarimages/automobile.png\")\n",
        "# the input image is required to be in the shape of dataset, i.e (32,32,3)\n",
        " \n",
        "im=im.resize((32,32))\n",
        "im=np.expand_dims(im,axis=0)\n",
        "im=np.array(im)\n",
        "Y_pred=model.predict([im])[0]\n",
        "print(Y_pred)\n",
        "\n"
      ],
      "execution_count": 37,
      "outputs": [
        {
          "output_type": "stream",
          "name": "stdout",
          "text": [
            "[0.000000e+00 3.335339e-23 0.000000e+00 0.000000e+00 0.000000e+00\n",
            " 0.000000e+00 0.000000e+00 0.000000e+00 1.000000e+00 0.000000e+00]\n",
            "{0: 'aeroplane', 1: 'automobile', 2: 'bird', 3: 'cat', 4: 'deer', 5: 'dog', 6: 'frog', 7: 'horse', 8: 'ship', 9: 'truck'}\n"
          ]
        }
      ]
    }
  ]
}